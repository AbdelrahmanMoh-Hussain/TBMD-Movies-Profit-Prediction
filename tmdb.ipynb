{
 "cells": [
  {
   "cell_type": "markdown",
   "id": "a6c9ccd0",
   "metadata": {},
   "source": [
    "# TMDb Movie prediction"
   ]
  },
  {
   "cell_type": "markdown",
   "id": "0f9b0f29",
   "metadata": {},
   "source": [
    "<img src=\"https://img5.goodfon.com/wallpaper/nbig/c/af/sssssss-aaaaaaaaaaa-ddddddddd-fffffffff-rrrrrrr.jpg\"> "
   ]
  },
  {
   "cell_type": "markdown",
   "id": "a5360b2e",
   "metadata": {},
   "source": [
    "***\n",
    "# Introduction\n",
    "This data set contains information about 10,000 movies collected from The\n",
    "Movie Database (TMDb), including user ratings and revenue.\n",
    "\n",
    "- Certain columns, like ‘cast’ and ‘genres’, contain multiple values\n",
    "separated by pipe (|) characters.  \n",
    "-  The final two columns ending with “_adj” show the budget and revenue of\n",
    "the associated movie in terms of 2010 dollars, accounting for inflation over\n",
    "time."
   ]
  },
  {
   "cell_type": "markdown",
   "id": "bc18690d",
   "metadata": {},
   "source": [
    "***\n",
    "# Objectives\n",
    "1- Filter and clean the columns and rows (Remove unnecessary\n",
    "columns & rows, Deal with NaN values with proper imputation\n",
    "techniques , remove duplicate records , apply feature scaling\n",
    "(normalization) for variables if necessary , Convert the used\n",
    "categorical columns to numerical columns using One hot encoding\n",
    "and label encoding techniques , check also that all columns have\n",
    "proper datatypes) In order to make them tidy and be able to be fed\n",
    "the columns into a linear regression model.\n",
    "\n",
    "2- Fed the data after filtering them into a linear or polynomial regression\n",
    "model where we will use all our selected columns as our X variables\n",
    "and we will use our Y variable the net profit which is the difference\n",
    "between (revenue_adj – budget_adj)."
   ]
  },
  {
   "cell_type": "markdown",
   "id": "d8f51969",
   "metadata": {},
   "source": [
    "*** "
   ]
  },
  {
   "cell_type": "markdown",
   "id": "5df319aa",
   "metadata": {},
   "source": [
    "# Data wrangling"
   ]
  },
  {
   "cell_type": "markdown",
   "id": "03178ffe",
   "metadata": {},
   "source": [
    "### Importing necessary libraries"
   ]
  },
  {
   "cell_type": "code",
   "execution_count": null,
   "id": "227e34ba",
   "metadata": {},
   "outputs": [],
   "source": [
    "import pandas as pd\n",
    "import numpy as np"
   ]
  },
  {
   "cell_type": "markdown",
   "id": "78cd0fff",
   "metadata": {},
   "source": [
    "### Reading data from the main csv file"
   ]
  },
  {
   "cell_type": "code",
   "execution_count": null,
   "id": "ddd2df50",
   "metadata": {},
   "outputs": [],
   "source": [
    "df = pd.read_csv('tmdb-movies.csv')"
   ]
  },
  {
   "cell_type": "markdown",
   "id": "cb2da5a0",
   "metadata": {},
   "source": [
    "### Displaying the first five rows of the dataset"
   ]
  },
  {
   "cell_type": "code",
   "execution_count": null,
   "id": "49377d20",
   "metadata": {},
   "outputs": [],
   "source": [
    "df.head()"
   ]
  },
  {
   "cell_type": "markdown",
   "id": "fdb91b13",
   "metadata": {},
   "source": [
    "### Formatting"
   ]
  },
  {
   "cell_type": "markdown",
   "id": "3591c3a8",
   "metadata": {},
   "source": [
    "Rounding up float numbers in order to have a better preview on the data, especially in order to normalize both budget_adj and revenue_adj columns' values."
   ]
  },
  {
   "cell_type": "code",
   "execution_count": null,
   "id": "7c8164c6",
   "metadata": {},
   "outputs": [],
   "source": [
    "pd.set_option('display.float_format', lambda x: '%.1f' % x)\n",
    "df.head()"
   ]
  },
  {
   "cell_type": "markdown",
   "id": "8b2a02f5",
   "metadata": {},
   "source": [
    "Adding a new column \"profit_adj\""
   ]
  },
  {
   "cell_type": "code",
   "execution_count": null,
   "id": "68b07a7b",
   "metadata": {},
   "outputs": [],
   "source": [
    "df[\"profit_adj\"]=df[\"revenue_adj\"]-df[\"budget_adj\"]\n",
    "df.head()"
   ]
  },
  {
   "cell_type": "markdown",
   "id": "080e889c",
   "metadata": {},
   "source": [
    "### Checking for NULL values."
   ]
  },
  {
   "cell_type": "code",
   "execution_count": null,
   "id": "9545c9b5",
   "metadata": {},
   "outputs": [],
   "source": [
    "df.info()\n",
    "df.isnull().sum()"
   ]
  },
  {
   "cell_type": "markdown",
   "id": "b5040307",
   "metadata": {},
   "source": [
    "### Dropping rows and columns."
   ]
  },
  {
   "cell_type": "markdown",
   "id": "7d572ad5",
   "metadata": {},
   "source": [
    "Columns to be dropped: \n",
    "- **homepage, id, imdb_id, original_title**: they are unique to each movie.\n",
    "- **tagline, cast, director**: serves little to no importance, in addition to having a HUGE number of null values.\n",
    "- **release_date**: we will use the \"release_year\" as a more general approach instead.\n",
    "- **budget_adj, revenue_adj**: we need to calculate the profit from them, after that they serve no purpose."
   ]
  },
  {
   "cell_type": "code",
   "execution_count": null,
   "id": "970360db",
   "metadata": {},
   "outputs": [],
   "source": [
    "colsToBeDropped=[\"homepage\", \"id\",\"imdb_id\", \"original_title\",\"tagline\",\"cast\",\"director\",\"budget_adj\",\"revenue_adj\"]\n",
    "df.drop(colsToBeDropped,inplace=True,axis=1)\n",
    "print(\"First 5 rows after dropping the columns\")\n",
    "df.head()"
   ]
  },
  {
   "cell_type": "markdown",
   "id": "4f2569c9",
   "metadata": {},
   "source": [
    "Rows to be dropped:\n",
    "- Remove duplicates.\n",
    "- Remove nulls //it's better to imputate them instead (add 0s and 1s as an example)"
   ]
  },
  {
   "cell_type": "code",
   "execution_count": null,
   "id": "c406cfa5",
   "metadata": {},
   "outputs": [],
   "source": [
    "#Be careful, this reduces the number of rows significantly (10866 to 8701)\n",
    "df.dropna(inplace=True)\n",
    "df.info()"
   ]
  },
  {
   "cell_type": "code",
   "execution_count": null,
   "id": "cb6a70d7",
   "metadata": {},
   "outputs": [],
   "source": []
  },
  {
   "cell_type": "code",
   "execution_count": null,
   "id": "181cb12c",
   "metadata": {},
   "outputs": [],
   "source": []
  },
  {
   "cell_type": "code",
   "execution_count": null,
   "id": "14dec0a8",
   "metadata": {},
   "outputs": [],
   "source": []
  }
 ],
 "metadata": {
  "kernelspec": {
   "display_name": "Python 3 (ipykernel)",
   "language": "python",
   "name": "python3"
  },
  "language_info": {
   "codemirror_mode": {
    "name": "ipython",
    "version": 3
   },
   "file_extension": ".py",
   "mimetype": "text/x-python",
   "name": "python",
   "nbconvert_exporter": "python",
   "pygments_lexer": "ipython3",
   "version": "3.9.7"
  }
 },
 "nbformat": 4,
 "nbformat_minor": 5
}
